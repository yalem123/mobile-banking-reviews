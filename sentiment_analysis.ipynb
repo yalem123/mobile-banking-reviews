{
  "nbformat": 4,
  "nbformat_minor": 0,
  "metadata": {
    "colab": {
      "provenance": [],
      "authorship_tag": "ABX9TyNfKuktrLNNLNNWelInvhbw",
      "include_colab_link": true
    },
    "kernelspec": {
      "name": "python3",
      "display_name": "Python 3"
    },
    "language_info": {
      "name": "python"
    }
  },
  "cells": [
    {
      "cell_type": "markdown",
      "metadata": {
        "id": "view-in-github",
        "colab_type": "text"
      },
      "source": [
        "<a href=\"https://colab.research.google.com/github/yalem123/mobile-banking-reviews/blob/task-2/sentiment_analysis.ipynb\" target=\"_parent\"><img src=\"https://colab.research.google.com/assets/colab-badge.svg\" alt=\"Open In Colab\"/></a>"
      ]
    },
    {
      "cell_type": "code",
      "execution_count": 1,
      "metadata": {
        "colab": {
          "base_uri": "https://localhost:8080/"
        },
        "id": "qK4OseA4mdKW",
        "outputId": "55e964d5-1542-4c0e-89bb-193706f54abe"
      },
      "outputs": [
        {
          "output_type": "stream",
          "name": "stdout",
          "text": [
            "Collecting google_play_scraper\n",
            "  Downloading google_play_scraper-1.2.7-py3-none-any.whl.metadata (50 kB)\n",
            "\u001b[?25l     \u001b[90m━━━━━━━━━━━━━━━━━━━━━━━━━━━━━━━━━━━━━━━━\u001b[0m \u001b[32m0.0/50.2 kB\u001b[0m \u001b[31m?\u001b[0m eta \u001b[36m-:--:--\u001b[0m\r\u001b[2K     \u001b[90m━━━━━━━━━━━━━━━━━━━━━━━━━━━━━━━━━━━━━━━━\u001b[0m \u001b[32m50.2/50.2 kB\u001b[0m \u001b[31m2.5 MB/s\u001b[0m eta \u001b[36m0:00:00\u001b[0m\n",
            "\u001b[?25hDownloading google_play_scraper-1.2.7-py3-none-any.whl (28 kB)\n",
            "Installing collected packages: google_play_scraper\n",
            "Successfully installed google_play_scraper-1.2.7\n",
            "Total reviews scraped for CBE: 7505\n",
            "{'reviewId': '02716b27-d785-403b-9171-44ae0eb5db90', 'userName': 'A Google user', 'userImage': 'https://play-lh.googleusercontent.com/EGemoI2NTXmTsBVtJqk8jxF9rh8ApRWfsIMQSt2uE4OcpQqbFu7f7NbTK05lx80nuSijCz7sc3a277R67g', 'content': 'very good app', 'score': 1, 'thumbsUpCount': 0, 'reviewCreatedVersion': None, 'at': datetime.datetime(2025, 6, 8, 22, 24, 23), 'replyContent': None, 'repliedAt': None, 'appVersion': None}\n",
            "Total reviews scraped for BOA: 1044\n",
            "{'reviewId': '937102c6-ae88-419c-994b-80e520faacb8', 'userName': 'Phillmon Haftom', 'userImage': 'https://play-lh.googleusercontent.com/a/ACg8ocJUHD1VlowMkpu5Ud6IlrkId8h-uGAlDtJtFS8bLkxHA1gDeA=mo', 'content': \"it's not working\", 'score': 3, 'thumbsUpCount': 0, 'reviewCreatedVersion': '25.05.03', 'at': datetime.datetime(2025, 6, 5, 8, 57, 36), 'replyContent': None, 'repliedAt': None, 'appVersion': '25.05.03'}\n",
            "Total reviews scraped for Dashen: 451\n",
            "{'reviewId': '8cb388e3-6766-4f38-99d9-6f53198406dc', 'userName': 'Nebiyat Zemede', 'userImage': 'https://play-lh.googleusercontent.com/a/ACg8ocJ8qzLZSpt9xVMMO73geeyr_6KGlxjTRyFBbK_6zV5nkVR8wA=mo', 'content': 'wow', 'score': 5, 'thumbsUpCount': 0, 'reviewCreatedVersion': None, 'at': datetime.datetime(2025, 6, 8, 22, 37, 9), 'replyContent': None, 'repliedAt': None, 'appVersion': None}\n"
          ]
        }
      ],
      "source": [
        "!pip install google_play_scraper\n",
        "\n",
        "from google_play_scraper import reviews_all\n",
        "\n",
        "\n",
        "apps = {\n",
        "    \"CBE\": \"com.combanketh.mobilebanking\",\n",
        "    \"BOA\": \"com.boa.boaMobileBanking\",\n",
        "    \"Dashen\": \"com.dashen.dashensuperapp\"\n",
        "}\n",
        "\n",
        "\n",
        "def get_reviews(app_id):\n",
        "    all_reviews = reviews_all(app_id)\n",
        "    return all_reviews\n",
        "\n",
        "\n",
        "cbe_reviews = get_reviews(apps[\"CBE\"])\n",
        "boa_reviews = get_reviews(apps[\"BOA\"])\n",
        "dashen_reviews = get_reviews(apps[\"Dashen\"])\n",
        "\n",
        "print(f\"Total reviews scraped for CBE: {len(cbe_reviews)}\")\n",
        "print(cbe_reviews[0])\n",
        "print(f\"Total reviews scraped for BOA: {len(boa_reviews)}\")\n",
        "print(boa_reviews[0])\n",
        "print(f\"Total reviews scraped for Dashen: {len(dashen_reviews)}\")\n",
        "print(dashen_reviews[0])\n"
      ]
    },
    {
      "cell_type": "code",
      "source": [
        "from google_play_scraper import reviews\n",
        "\n",
        "cbe_reviews, _ = reviews(\n",
        "    'com.combanketh.mobilebanking',\n",
        "    lang='en',\n",
        "    country='et',\n",
        ")\n",
        "\n",
        "print(f\"Total reviews scraped for CBE: {len(cbe_reviews)}\")\n",
        "print(cbe_reviews[0])\n"
      ],
      "metadata": {
        "colab": {
          "base_uri": "https://localhost:8080/"
        },
        "id": "Shc2TVDZm6_M",
        "outputId": "aa4940fb-7fd8-4b31-ef16-4f17feecd097"
      },
      "execution_count": 2,
      "outputs": [
        {
          "output_type": "stream",
          "name": "stdout",
          "text": [
            "Total reviews scraped for CBE: 100\n",
            "{'reviewId': '02716b27-d785-403b-9171-44ae0eb5db90', 'userName': 'Moha Yimer', 'userImage': 'https://play-lh.googleusercontent.com/a/ACg8ocIvJ77vhZsOUQj973ojjVewleQtQO_wxSJIK2MY8w6mgFpurw=mo', 'content': 'very good app', 'score': 1, 'thumbsUpCount': 0, 'reviewCreatedVersion': None, 'at': datetime.datetime(2025, 6, 8, 22, 24, 23), 'replyContent': None, 'repliedAt': None, 'appVersion': None}\n"
          ]
        }
      ]
    },
    {
      "cell_type": "code",
      "source": [
        "from google_play_scraper import reviews\n",
        "\n",
        "boa_reviews, _ = reviews(\n",
        "    'com.boa.boaMobileBanking',\n",
        "    lang='en',\n",
        "    country='et',\n",
        "    count=400,\n",
        ")\n",
        "\n",
        "print(f\"Total reviews scraped for BOA: {len(boa_reviews)}\")\n",
        "print(boa_reviews[0])"
      ],
      "metadata": {
        "colab": {
          "base_uri": "https://localhost:8080/"
        },
        "id": "lKstiRJUrbsU",
        "outputId": "200a9241-1d61-426b-a346-16d447d1bcc7"
      },
      "execution_count": 3,
      "outputs": [
        {
          "output_type": "stream",
          "name": "stdout",
          "text": [
            "Total reviews scraped for BOA: 400\n",
            "{'reviewId': '937102c6-ae88-419c-994b-80e520faacb8', 'userName': 'Phillmon Haftom', 'userImage': 'https://play-lh.googleusercontent.com/a/ACg8ocJUHD1VlowMkpu5Ud6IlrkId8h-uGAlDtJtFS8bLkxHA1gDeA=mo', 'content': \"it's not working\", 'score': 3, 'thumbsUpCount': 0, 'reviewCreatedVersion': '25.05.03', 'at': datetime.datetime(2025, 6, 5, 8, 57, 36), 'replyContent': None, 'repliedAt': None, 'appVersion': '25.05.03'}\n"
          ]
        }
      ]
    },
    {
      "cell_type": "code",
      "source": [
        "from google_play_scraper import reviews\n",
        "\n",
        "dashen_reviews, _ = reviews(\n",
        "    'com.dashen.dashensuperapp',\n",
        "    lang='en',\n",
        "    country='et',\n",
        "    count=400,\n",
        ")\n",
        "\n",
        "print(f\"Total reviews scraped for Dashen: {len(dashen_reviews)}\")\n",
        "print(dashen_reviews[0])"
      ],
      "metadata": {
        "colab": {
          "base_uri": "https://localhost:8080/"
        },
        "id": "W_shplqzsZ_r",
        "outputId": "bbf84ff4-63e1-49a0-e5af-c56546e3ceaf"
      },
      "execution_count": 4,
      "outputs": [
        {
          "output_type": "stream",
          "name": "stdout",
          "text": [
            "Total reviews scraped for Dashen: 400\n",
            "{'reviewId': '8cb388e3-6766-4f38-99d9-6f53198406dc', 'userName': 'Nebiyat Zemede', 'userImage': 'https://play-lh.googleusercontent.com/a/ACg8ocJ8qzLZSpt9xVMMO73geeyr_6KGlxjTRyFBbK_6zV5nkVR8wA=mo', 'content': 'wow', 'score': 5, 'thumbsUpCount': 0, 'reviewCreatedVersion': None, 'at': datetime.datetime(2025, 6, 8, 22, 37, 9), 'replyContent': None, 'repliedAt': None, 'appVersion': None}\n"
          ]
        }
      ]
    },
    {
      "cell_type": "code",
      "source": [
        "import pandas as pd\n",
        "\n",
        "\n",
        "df_cbe = pd.DataFrame(cbe_reviews)\n",
        "\n",
        "df_cbe_clean = df_cbe[['content', 'score', 'at']]\n",
        "\n",
        "\n",
        "df_cbe_clean = df_cbe_clean.dropna(subset=['content'])\n",
        "\n",
        "\n",
        "print(df_cbe_clean.head())\n"
      ],
      "metadata": {
        "colab": {
          "base_uri": "https://localhost:8080/"
        },
        "id": "wYzBzAn3s-q9",
        "outputId": "efa48283-8253-445f-f316-b69d497bd505"
      },
      "execution_count": 5,
      "outputs": [
        {
          "output_type": "stream",
          "name": "stdout",
          "text": [
            "                                             content  score  \\\n",
            "0                                      very good app      1   \n",
            "1           Very amazing app indeed. I'm enjoying it      5   \n",
            "2                                               Best      5   \n",
            "3                                           20 years      5   \n",
            "4  A great app. It's like carrying a bank in your...      4   \n",
            "\n",
            "                   at  \n",
            "0 2025-06-08 22:24:23  \n",
            "1 2025-06-08 18:52:23  \n",
            "2 2025-06-08 15:25:37  \n",
            "3 2025-06-08 09:04:48  \n",
            "4 2025-06-07 17:21:52  \n"
          ]
        }
      ]
    },
    {
      "cell_type": "code",
      "source": [
        "import pandas as pd\n",
        "df_boa = pd.DataFrame(boa_reviews)\n",
        "\n",
        "df_boa_clean = df_boa[['content', 'score', 'at']]\n",
        "\n",
        "df_boa_clean = df_boa_clean.dropna(subset=['content'])\n",
        "\n",
        "print(df_boa_clean.head())"
      ],
      "metadata": {
        "colab": {
          "base_uri": "https://localhost:8080/"
        },
        "id": "fjsX2aLDtARk",
        "outputId": "d615091e-d278-41b4-bd2a-b9cc0f3e76b3"
      },
      "execution_count": 6,
      "outputs": [
        {
          "output_type": "stream",
          "name": "stdout",
          "text": [
            "                                             content  score  \\\n",
            "0                                   it's not working      3   \n",
            "1  Hello, I’m facing a problem with the BOA Mobil...      1   \n",
            "2                                        exceptional      5   \n",
            "3                               BoA Mobile good bank      5   \n",
            "4                    this is worest app 24/7 loading      1   \n",
            "\n",
            "                   at  \n",
            "0 2025-06-05 08:57:36  \n",
            "1 2025-06-03 13:21:34  \n",
            "2 2025-06-03 07:32:35  \n",
            "3 2025-06-02 11:25:12  \n",
            "4 2025-06-01 12:51:10  \n"
          ]
        }
      ]
    },
    {
      "cell_type": "code",
      "source": [
        "import pandas as pd\n",
        "df_dashen = pd.DataFrame(dashen_reviews)\n",
        "\n",
        "df_dashen_clean = df_dashen[['content', 'score', 'at']]\n",
        "\n",
        "df_dashen_clean = df_dashen_clean.dropna(subset=['content'])\n",
        "print(df_dashen_clean.head())"
      ],
      "metadata": {
        "colab": {
          "base_uri": "https://localhost:8080/"
        },
        "id": "tzc7Dw_ZtDHF",
        "outputId": "ca7fa901-107e-442b-f5ec-cddd5380a5d6"
      },
      "execution_count": 7,
      "outputs": [
        {
          "output_type": "stream",
          "name": "stdout",
          "text": [
            "                                             content  score  \\\n",
            "0                                                wow      5   \n",
            "1                                              kalid      5   \n",
            "2  I like this mobile banking app very much. Over...      2   \n",
            "3                                               love      3   \n",
            "4                                               መቸሸጠ      5   \n",
            "\n",
            "                   at  \n",
            "0 2025-06-08 22:37:09  \n",
            "1 2025-06-07 21:04:22  \n",
            "2 2025-06-07 07:40:29  \n",
            "3 2025-06-05 21:15:44  \n",
            "4 2025-06-03 16:40:31  \n"
          ]
        }
      ]
    },
    {
      "cell_type": "code",
      "source": [
        "# %%\n",
        "import pandas as pd\n",
        "\n",
        "\n",
        "df_cbe = pd.DataFrame(cbe_reviews)\n",
        "df_cbe_clean = df_cbe[['content', 'score', 'at']]\n",
        "df_cbe_clean = df_cbe_clean.dropna(subset=['content'])\n",
        "df_cbe_clean['bank'] = 'CBE'\n",
        "\n",
        "print(\"CBE Dataframe Head:\")\n",
        "print(df_cbe_clean.head())\n",
        "\n",
        "\n",
        "df_boa = pd.DataFrame(boa_reviews)\n",
        "df_boa_clean = df_boa[['content', 'score', 'at']]\n",
        "df_boa_clean = df_boa_clean.dropna(subset=['content'])\n",
        "df_boa_clean['bank'] = 'BOA'\n",
        "\n",
        "print(\"\\nBOA Dataframe Head:\")\n",
        "print(df_boa_clean.head())\n",
        "\n",
        "df_dashen = pd.DataFrame(dashen_reviews)\n",
        "df_dashen_clean = df_dashen[['content', 'score', 'at']]\n",
        "df_dashen_clean = df_dashen_clean.dropna(subset=['content'])\n",
        "df_dashen_clean['bank'] = 'Dashen'\n",
        "\n",
        "print(\"\\nDashen Dataframe Head:\")\n",
        "print(df_dashen_clean.head())\n",
        "\n",
        "\n",
        "df_all = pd.concat([df_cbe_clean, df_boa_clean, df_dashen_clean], ignore_index=True)\n",
        "\n",
        "\n",
        "!pip install nltk\n",
        "from nltk.sentiment.vader import SentimentIntensityAnalyzer\n",
        "import nltk\n",
        "nltk.download('vader_lexicon')\n",
        "\n",
        "\n",
        "sid = SentimentIntensityAnalyzer()\n",
        "\n",
        "def get_sentiment(text):\n",
        "    score = sid.polarity_scores(text)\n",
        "    compound = score['compound']\n",
        "    if compound >= 0.05:\n",
        "        return 'Positive'\n",
        "    elif compound <= -0.05:\n",
        "        return 'Negative'\n",
        "    else:\n",
        "        return 'Neutral'\n",
        "\n",
        "df_all['sentiment'] = df_all['content'].apply(get_sentiment)\n",
        "\n",
        "print(\"\\nDataFrame with Sentiment and Bank column Head:\")\n",
        "print(df_all[['content', 'bank', 'sentiment']].head(10))"
      ],
      "metadata": {
        "colab": {
          "base_uri": "https://localhost:8080/"
        },
        "id": "CKf3jU2_tF8V",
        "outputId": "1b83f699-bdbc-4be6-bbee-2d4a7af214e3"
      },
      "execution_count": 8,
      "outputs": [
        {
          "output_type": "stream",
          "name": "stdout",
          "text": [
            "CBE Dataframe Head:\n",
            "                                             content  score  \\\n",
            "0                                      very good app      1   \n",
            "1           Very amazing app indeed. I'm enjoying it      5   \n",
            "2                                               Best      5   \n",
            "3                                           20 years      5   \n",
            "4  A great app. It's like carrying a bank in your...      4   \n",
            "\n",
            "                   at bank  \n",
            "0 2025-06-08 22:24:23  CBE  \n",
            "1 2025-06-08 18:52:23  CBE  \n",
            "2 2025-06-08 15:25:37  CBE  \n",
            "3 2025-06-08 09:04:48  CBE  \n",
            "4 2025-06-07 17:21:52  CBE  \n",
            "\n",
            "BOA Dataframe Head:\n",
            "                                             content  score  \\\n",
            "0                                   it's not working      3   \n",
            "1  Hello, I’m facing a problem with the BOA Mobil...      1   \n",
            "2                                        exceptional      5   \n",
            "3                               BoA Mobile good bank      5   \n",
            "4                    this is worest app 24/7 loading      1   \n",
            "\n",
            "                   at bank  \n",
            "0 2025-06-05 08:57:36  BOA  \n",
            "1 2025-06-03 13:21:34  BOA  \n",
            "2 2025-06-03 07:32:35  BOA  \n",
            "3 2025-06-02 11:25:12  BOA  \n",
            "4 2025-06-01 12:51:10  BOA  \n",
            "\n",
            "Dashen Dataframe Head:\n",
            "                                             content  score  \\\n",
            "0                                                wow      5   \n",
            "1                                              kalid      5   \n",
            "2  I like this mobile banking app very much. Over...      2   \n",
            "3                                               love      3   \n",
            "4                                               መቸሸጠ      5   \n",
            "\n",
            "                   at    bank  \n",
            "0 2025-06-08 22:37:09  Dashen  \n",
            "1 2025-06-07 21:04:22  Dashen  \n",
            "2 2025-06-07 07:40:29  Dashen  \n",
            "3 2025-06-05 21:15:44  Dashen  \n",
            "4 2025-06-03 16:40:31  Dashen  \n",
            "Requirement already satisfied: nltk in /usr/local/lib/python3.11/dist-packages (3.9.1)\n",
            "Requirement already satisfied: click in /usr/local/lib/python3.11/dist-packages (from nltk) (8.2.1)\n",
            "Requirement already satisfied: joblib in /usr/local/lib/python3.11/dist-packages (from nltk) (1.5.1)\n",
            "Requirement already satisfied: regex>=2021.8.3 in /usr/local/lib/python3.11/dist-packages (from nltk) (2024.11.6)\n",
            "Requirement already satisfied: tqdm in /usr/local/lib/python3.11/dist-packages (from nltk) (4.67.1)\n"
          ]
        },
        {
          "output_type": "stream",
          "name": "stderr",
          "text": [
            "[nltk_data] Downloading package vader_lexicon to /root/nltk_data...\n"
          ]
        },
        {
          "output_type": "stream",
          "name": "stdout",
          "text": [
            "\n",
            "DataFrame with Sentiment and Bank column Head:\n",
            "                                             content bank sentiment\n",
            "0                                      very good app  CBE  Positive\n",
            "1           Very amazing app indeed. I'm enjoying it  CBE  Positive\n",
            "2                                               Best  CBE  Positive\n",
            "3                                           20 years  CBE   Neutral\n",
            "4  A great app. It's like carrying a bank in your...  CBE  Positive\n",
            "5                      More than garrantty bank EBC.  CBE   Neutral\n",
            "6  really am happy to this app it is Siple to use...  CBE  Positive\n",
            "7  I liked this app. But the User interface is ve...  CBE  Negative\n",
            "8  \"Why don’t your ATMs support account-to-accoun...  CBE  Positive\n",
            "9                        what is this app problem???  CBE  Negative\n"
          ]
        }
      ]
    },
    {
      "cell_type": "code",
      "source": [
        "df_all = pd.concat([df_cbe_clean, df_boa_clean, df_dashen_clean], ignore_index=True)\n",
        "\n",
        "!pip install nltk\n",
        "from nltk.sentiment.vader import SentimentIntensityAnalyzer\n",
        "import nltk\n",
        "nltk.download('vader_lexicon')\n",
        "\n",
        "\n",
        "sid = SentimentIntensityAnalyzer()\n",
        "\n",
        "def get_sentiment(text):\n",
        "    score = sid.polarity_scores(text)\n",
        "    compound = score['compound']\n",
        "    if compound >= 0.05:\n",
        "        return 'Positive'\n",
        "    elif compound <= -0.05:\n",
        "        return 'Negative'\n",
        "    else:\n",
        "        return 'Neutral'\n",
        "\n",
        "df_all['sentiment'] = df_all['content'].apply(get_sentiment)\n",
        "\n",
        "print(df_all[['content', 'sentiment']].head(10))\n"
      ],
      "metadata": {
        "colab": {
          "base_uri": "https://localhost:8080/"
        },
        "id": "sRe-U5jR-_ZX",
        "outputId": "91d2a5ae-ffc4-4f8c-a4f1-86d12bc07c3e"
      },
      "execution_count": 9,
      "outputs": [
        {
          "output_type": "stream",
          "name": "stdout",
          "text": [
            "Requirement already satisfied: nltk in /usr/local/lib/python3.11/dist-packages (3.9.1)\n",
            "Requirement already satisfied: click in /usr/local/lib/python3.11/dist-packages (from nltk) (8.2.1)\n",
            "Requirement already satisfied: joblib in /usr/local/lib/python3.11/dist-packages (from nltk) (1.5.1)\n",
            "Requirement already satisfied: regex>=2021.8.3 in /usr/local/lib/python3.11/dist-packages (from nltk) (2024.11.6)\n",
            "Requirement already satisfied: tqdm in /usr/local/lib/python3.11/dist-packages (from nltk) (4.67.1)\n",
            "                                             content sentiment\n",
            "0                                      very good app  Positive\n",
            "1           Very amazing app indeed. I'm enjoying it  Positive\n",
            "2                                               Best  Positive\n",
            "3                                           20 years   Neutral\n",
            "4  A great app. It's like carrying a bank in your...  Positive\n",
            "5                      More than garrantty bank EBC.   Neutral\n",
            "6  really am happy to this app it is Siple to use...  Positive\n",
            "7  I liked this app. But the User interface is ve...  Negative\n",
            "8  \"Why don’t your ATMs support account-to-accoun...  Positive\n",
            "9                        what is this app problem???  Negative\n"
          ]
        },
        {
          "output_type": "stream",
          "name": "stderr",
          "text": [
            "[nltk_data] Downloading package vader_lexicon to /root/nltk_data...\n",
            "[nltk_data]   Package vader_lexicon is already up-to-date!\n"
          ]
        }
      ]
    },
    {
      "cell_type": "code",
      "source": [
        "import matplotlib.pyplot as plt\n",
        "import seaborn as sns\n",
        "\n",
        "plt.figure(figsize=(10,6))\n",
        "sns.countplot(data=df_all, x='bank', hue='sentiment')\n",
        "plt.title('Sentiment Distribution by Bank')\n",
        "plt.show()"
      ],
      "metadata": {
        "colab": {
          "base_uri": "https://localhost:8080/",
          "height": 463
        },
        "id": "c91Yiet3_J5d",
        "outputId": "22f24a2a-8f93-48d5-b85d-09eaac90009a"
      },
      "execution_count": 10,
      "outputs": [
        {
          "output_type": "display_data",
          "data": {
            "text/plain": [
              "<Figure size 1000x600 with 1 Axes>"
            ],
            "image/png": "[encoded data removed]"
          },
          "metadata": {}
        }
      ]
    },
    {
      "cell_type": "code",
      "source": [
        "print(f\"CBE Reviews: {len(cbe_reviews)}\")\n",
        "print(f\"BOA Reviews: {len(boa_reviews)}\")\n",
        "print(f\"Dashen Reviews: {len(dashen_reviews)}\")\n"
      ],
      "metadata": {
        "colab": {
          "base_uri": "https://localhost:8080/"
        },
        "id": "e7YjScY1C0jB",
        "outputId": "f1befed6-5478-4f0f-afb8-3a4678bae1e7"
      },
      "execution_count": 20,
      "outputs": [
        {
          "output_type": "stream",
          "name": "stdout",
          "text": [
            "CBE Reviews: 100\n",
            "BOA Reviews: 400\n",
            "Dashen Reviews: 400\n"
          ]
        }
      ]
    },
    {
      "cell_type": "code",
      "source": [
        "import pandas as pd\n",
        "from nltk.sentiment.vader import SentimentIntensityAnalyzer\n",
        "import nltk\n",
        "\n",
        "# Download vader_lexicon if not already present\n",
        "try:\n",
        "    nltk.data.find('sentiment/vader_lexicon.zip')\n",
        "except nltk.downloader.DownloadError:\n",
        "    print(\"Downloading vader_lexicon...\")\n",
        "    nltk.download('vader_lexicon')\n",
        "except LookupError:\n",
        "     print(\"Downloading vader_lexicon...\")\n",
        "     nltk.download('vader_lexicon')\n",
        "\n",
        "\n",
        "sid = SentimentIntensityAnalyzer()\n",
        "\n",
        "def get_sentiment(text):\n",
        "    \"\"\"Categorizes sentiment based on VADER compound score.\"\"\"\n",
        "    score = sid.polarity_scores(text)\n",
        "    compound = score['compound']\n",
        "    if compound >= 0.05:\n",
        "        return 'Positive'\n",
        "    elif compound <= -0.05:\n",
        "        return 'Negative'\n",
        "    else:\n",
        "        return 'Neutral'\n",
        "\n",
        "def get_sentiment_score(text):\n",
        "    \"\"\"Returns the VADER compound sentiment score for a given text.\"\"\"\n",
        "    score = sid.polarity_scores(text)\n",
        "    return score['compound']\n",
        "\n",
        "# Assuming cbe_reviews, boa_reviews, and dashen_reviews are already populated from previous cells\n",
        "\n",
        "# Create and clean dataframes for each bank\n",
        "df_cbe = pd.DataFrame(cbe_reviews)\n",
        "df_cbe_clean = df_cbe[['content', 'score', 'at']]\n",
        "df_cbe_clean = df_cbe_clean.rename(columns={'score': 'rating'}) # Rename 'score' to 'rating' for consistency later\n",
        "df_cbe_clean = df_cbe_clean.dropna(subset=['content'])\n",
        "df_cbe_clean['bank'] = 'CBE'\n",
        "\n",
        "df_boa = pd.DataFrame(boa_reviews)\n",
        "df_boa_clean = df_boa[['content', 'score', 'at']]\n",
        "df_boa_clean = df_boa_clean.rename(columns={'score': 'rating'}) # Rename 'score' to 'rating' for consistency later\n",
        "df_boa_clean = df_boa_clean.dropna(subset=['content'])\n",
        "df_boa_clean['bank'] = 'BOA'\n",
        "\n",
        "df_dashen = pd.DataFrame(dashen_reviews)\n",
        "df_dashen_clean = df_dashen[['content', 'score', 'at']]\n",
        "df_dashen_clean = df_dashen_clean.rename(columns={'score': 'rating'}) # Rename 'score' to 'rating' for consistency later\n",
        "df_dashen_clean = df_dashen_clean.dropna(subset=['content'])\n",
        "df_dashen_clean['bank'] = 'Dashen'\n",
        "\n",
        "\n",
        "\n",
        "df_all = pd.concat([df_cbe_clean, df_boa_clean, df_dashen_clean], ignore_index=True)\n",
        "\n",
        "\n",
        "df_all['sentiment'] = df_all['content'].apply(get_sentiment)\n",
        "df_all['sentiment_score'] = df_all['content'].apply(get_sentiment_score)\n",
        "\n",
        "# Save the combined and analyzed dataframe to CSV\n",
        "df_all.to_csv('cleaned reviews.csv', index=False)\n",
        "\n",
        "print(\"DataFrame df_all created, sentiment and sentiment_score added, and saved to 'cleaned reviews.csv'\")\n",
        "print(\"Columns in df_all:\", df_all.columns)\n",
        "print(df_all[['content', 'bank', 'sentiment', 'sentiment_score']].head(10))"
      ],
      "metadata": {
        "colab": {
          "base_uri": "https://localhost:8080/"
        },
        "id": "IJ0XPsNdyqes",
        "outputId": "7388e510-1873-488c-d15a-c2b65a92c0d9"
      },
      "execution_count": 14,
      "outputs": [
        {
          "output_type": "stream",
          "name": "stdout",
          "text": [
            "DataFrame df_all created, sentiment and sentiment_score added, and saved to 'cleaned reviews.csv'\n",
            "Columns in df_all: Index(['content', 'rating', 'at', 'bank', 'sentiment', 'sentiment_score'], dtype='object')\n",
            "                                             content bank sentiment  \\\n",
            "0                                      very good app  CBE  Positive   \n",
            "1           Very amazing app indeed. I'm enjoying it  CBE  Positive   \n",
            "2                                               Best  CBE  Positive   \n",
            "3                                           20 years  CBE   Neutral   \n",
            "4  A great app. It's like carrying a bank in your...  CBE  Positive   \n",
            "5                      More than garrantty bank EBC.  CBE   Neutral   \n",
            "6  really am happy to this app it is Siple to use...  CBE  Positive   \n",
            "7  I liked this app. But the User interface is ve...  CBE  Negative   \n",
            "8  \"Why don’t your ATMs support account-to-accoun...  CBE  Positive   \n",
            "9                        what is this app problem???  CBE  Negative   \n",
            "\n",
            "   sentiment_score  \n",
            "0           0.4927  \n",
            "1           0.8173  \n",
            "2           0.6369  \n",
            "3           0.0000  \n",
            "4           0.7650  \n",
            "5           0.0000  \n",
            "6           0.6096  \n",
            "7          -0.2980  \n",
            "8           0.6369  \n",
            "9          -0.5007  \n"
          ]
        }
      ]
    },
    {
      "cell_type": "code",
      "source": [
        "df_all.to_csv('cleaned reviews.csv', index=False)"
      ],
      "metadata": {
        "id": "P-7juhWVVd0l"
      },
      "execution_count": 15,
      "outputs": []
    }
  ]
}