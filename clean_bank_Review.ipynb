{
  "nbformat": 4,
  "nbformat_minor": 0,
  "metadata": {
    "colab": {
      "provenance": [],
      "authorship_tag": "ABX9TyPQoP3rezveyq0ifCeNaGCk",
      "include_colab_link": true
    },
    "kernelspec": {
      "name": "python3",
      "display_name": "Python 3"
    },
    "language_info": {
      "name": "python"
    }
  },
  "cells": [
    {
      "cell_type": "markdown",
      "metadata": {
        "id": "view-in-github",
        "colab_type": "text"
      },
      "source": [
        "<a href=\"https://colab.research.google.com/github/yalem123/mobile-banking-reviews/blob/task-1/clean_bank_Review.ipynb\" target=\"_parent\"><img src=\"https://colab.research.google.com/assets/colab-badge.svg\" alt=\"Open In Colab\"/></a>"
      ]
    },
    {
      "cell_type": "code",
      "execution_count": 1,
      "metadata": {
        "colab": {
          "base_uri": "https://localhost:8080/"
        },
        "id": "qK4OseA4mdKW",
        "outputId": "0055ece7-0310-4a1e-ba5a-a9f2b5f12c9f"
      },
      "outputs": [
        {
          "output_type": "stream",
          "name": "stdout",
          "text": [
            "Collecting google_play_scraper\n",
            "  Downloading google_play_scraper-1.2.7-py3-none-any.whl.metadata (50 kB)\n",
            "\u001b[?25l     \u001b[90m━━━━━━━━━━━━━━━━━━━━━━━━━━━━━━━━━━━━━━━━\u001b[0m \u001b[32m0.0/50.2 kB\u001b[0m \u001b[31m?\u001b[0m eta \u001b[36m-:--:--\u001b[0m\r\u001b[2K     \u001b[91m━━━━━━━━━━━━━━━━━━━━━━━━━━━━━━━━\u001b[0m\u001b[91m╸\u001b[0m\u001b[90m━━━━━━━\u001b[0m \u001b[32m41.0/50.2 kB\u001b[0m \u001b[31m60.1 MB/s\u001b[0m eta \u001b[36m0:00:01\u001b[0m\r\u001b[2K     \u001b[90m━━━━━━━━━━━━━━━━━━━━━━━━━━━━━━━━━━━━━━━━\u001b[0m \u001b[32m50.2/50.2 kB\u001b[0m \u001b[31m1.0 MB/s\u001b[0m eta \u001b[36m0:00:00\u001b[0m\n",
            "\u001b[?25hDownloading google_play_scraper-1.2.7-py3-none-any.whl (28 kB)\n",
            "Installing collected packages: google_play_scraper\n",
            "Successfully installed google_play_scraper-1.2.7\n",
            "Total reviews scraped for CBE: 7503\n",
            "{'reviewId': '3e1d37a0-a082-4cb0-912a-8efff072ed3f', 'userName': 'A Google user', 'userImage': 'https://play-lh.googleusercontent.com/EGemoI2NTXmTsBVtJqk8jxF9rh8ApRWfsIMQSt2uE4OcpQqbFu7f7NbTK05lx80nuSijCz7sc3a277R67g', 'content': '20 years', 'score': 5, 'thumbsUpCount': 0, 'reviewCreatedVersion': None, 'at': datetime.datetime(2025, 6, 8, 9, 4, 48), 'replyContent': None, 'repliedAt': None, 'appVersion': None}\n",
            "Total reviews scraped for BOA: 1044\n",
            "{'reviewId': '937102c6-ae88-419c-994b-80e520faacb8', 'userName': 'Phillmon Haftom', 'userImage': 'https://play-lh.googleusercontent.com/a/ACg8ocJUHD1VlowMkpu5Ud6IlrkId8h-uGAlDtJtFS8bLkxHA1gDeA=mo', 'content': \"it's not working\", 'score': 3, 'thumbsUpCount': 0, 'reviewCreatedVersion': '25.05.03', 'at': datetime.datetime(2025, 6, 5, 8, 57, 36), 'replyContent': None, 'repliedAt': None, 'appVersion': '25.05.03'}\n",
            "Total reviews scraped for Dashen: 450\n",
            "{'reviewId': 'd305d857-0fc0-4458-9ee7-5a742fe48c33', 'userName': 'Kalidabdurahaman Hassen', 'userImage': 'https://play-lh.googleusercontent.com/a-/ALV-UjWyWfgrrSykKR9LvpNSyawv87oIomNtfL5UPotaEje37-ypvHE', 'content': 'kalid', 'score': 5, 'thumbsUpCount': 0, 'reviewCreatedVersion': None, 'at': datetime.datetime(2025, 6, 7, 21, 4, 22), 'replyContent': None, 'repliedAt': None, 'appVersion': None}\n"
          ]
        }
      ],
      "source": [
        "!pip install google_play_scraper\n",
        "\n",
        "from google_play_scraper import reviews_all\n",
        "\n",
        "\n",
        "apps = {\n",
        "    \"CBE\": \"com.combanketh.mobilebanking\",\n",
        "    \"BOA\": \"com.boa.boaMobileBanking\",\n",
        "    \"Dashen\": \"com.dashen.dashensuperapp\"\n",
        "}\n",
        "\n",
        "\n",
        "def get_reviews(app_id):\n",
        "    all_reviews = reviews_all(app_id)\n",
        "    return all_reviews\n",
        "\n",
        "\n",
        "cbe_reviews = get_reviews(apps[\"CBE\"])\n",
        "boa_reviews = get_reviews(apps[\"BOA\"])\n",
        "dashen_reviews = get_reviews(apps[\"Dashen\"])\n",
        "\n",
        "print(f\"Total reviews scraped for CBE: {len(cbe_reviews)}\")\n",
        "print(cbe_reviews[0])\n",
        "print(f\"Total reviews scraped for BOA: {len(boa_reviews)}\")\n",
        "print(boa_reviews[0])\n",
        "print(f\"Total reviews scraped for Dashen: {len(dashen_reviews)}\")\n",
        "print(dashen_reviews[0])\n"
      ]
    },
    {
      "cell_type": "code",
      "source": [
        "from google_play_scraper import reviews\n",
        "\n",
        "cbe_reviews, _ = reviews(\n",
        "    'com.combanketh.mobilebanking',\n",
        "    lang='en',\n",
        "    country='et',\n",
        ")\n",
        "\n",
        "print(f\"Total reviews scraped for CBE: {len(cbe_reviews)}\")\n",
        "print(cbe_reviews[0])\n"
      ],
      "metadata": {
        "colab": {
          "base_uri": "https://localhost:8080/"
        },
        "id": "Shc2TVDZm6_M",
        "outputId": "2d2636c8-7001-465c-db21-7f26727b5d5f"
      },
      "execution_count": 2,
      "outputs": [
        {
          "output_type": "stream",
          "name": "stdout",
          "text": [
            "Total reviews scraped for CBE: 100\n",
            "{'reviewId': '3e1d37a0-a082-4cb0-912a-8efff072ed3f', 'userName': 'Eyayu Ali', 'userImage': 'https://play-lh.googleusercontent.com/a-/ALV-UjXtynrn-g0ja5_nnEyaJ4Voudmt3PzeuGbXn1ZRCXPoCc2l9A', 'content': '20 years', 'score': 5, 'thumbsUpCount': 0, 'reviewCreatedVersion': None, 'at': datetime.datetime(2025, 6, 8, 9, 4, 48), 'replyContent': None, 'repliedAt': None, 'appVersion': None}\n"
          ]
        }
      ]
    },
    {
      "cell_type": "code",
      "source": [
        "from google_play_scraper import reviews\n",
        "\n",
        "boa_reviews, _ = reviews(\n",
        "    'com.boa.boaMobileBanking',\n",
        "    lang='en',\n",
        "    country='et',\n",
        "    count=400,\n",
        ")\n",
        "\n",
        "print(f\"Total reviews scraped for BOA: {len(boa_reviews)}\")\n",
        "print(boa_reviews[0])"
      ],
      "metadata": {
        "colab": {
          "base_uri": "https://localhost:8080/"
        },
        "id": "lKstiRJUrbsU",
        "outputId": "b4291bde-6dbc-4480-8bd1-34988a74c6c6"
      },
      "execution_count": 4,
      "outputs": [
        {
          "output_type": "stream",
          "name": "stdout",
          "text": [
            "Total reviews scraped for BOA: 400\n",
            "{'reviewId': '937102c6-ae88-419c-994b-80e520faacb8', 'userName': 'Phillmon Haftom', 'userImage': 'https://play-lh.googleusercontent.com/a/ACg8ocJUHD1VlowMkpu5Ud6IlrkId8h-uGAlDtJtFS8bLkxHA1gDeA=mo', 'content': \"it's not working\", 'score': 3, 'thumbsUpCount': 0, 'reviewCreatedVersion': '25.05.03', 'at': datetime.datetime(2025, 6, 5, 8, 57, 36), 'replyContent': None, 'repliedAt': None, 'appVersion': '25.05.03'}\n"
          ]
        }
      ]
    },
    {
      "cell_type": "code",
      "source": [
        "from google_play_scraper import reviews\n",
        "\n",
        "dashen_reviews, _ = reviews(\n",
        "    'com.dashen.dashensuperapp',\n",
        "    lang='en',\n",
        "    country='et',\n",
        "    count=400,\n",
        ")\n",
        "\n",
        "print(f\"Total reviews scraped for Dashen: {len(dashen_reviews)}\")\n",
        "print(dashen_reviews[0])"
      ],
      "metadata": {
        "colab": {
          "base_uri": "https://localhost:8080/"
        },
        "id": "W_shplqzsZ_r",
        "outputId": "eab5da97-0cec-4b04-e186-dbbb67293f16"
      },
      "execution_count": 5,
      "outputs": [
        {
          "output_type": "stream",
          "name": "stdout",
          "text": [
            "Total reviews scraped for Dashen: 400\n",
            "{'reviewId': 'd305d857-0fc0-4458-9ee7-5a742fe48c33', 'userName': 'Kalidabdurahaman Hassen', 'userImage': 'https://play-lh.googleusercontent.com/a-/ALV-UjWyWfgrrSykKR9LvpNSyawv87oIomNtfL5UPotaEje37-ypvHE', 'content': 'kalid', 'score': 5, 'thumbsUpCount': 0, 'reviewCreatedVersion': None, 'at': datetime.datetime(2025, 6, 7, 21, 4, 22), 'replyContent': None, 'repliedAt': None, 'appVersion': None}\n"
          ]
        }
      ]
    },
    {
      "cell_type": "code",
      "source": [
        "import pandas as pd\n",
        "\n",
        "\n",
        "df_cbe = pd.DataFrame(cbe_reviews)\n",
        "\n",
        "df_cbe_clean = df_cbe[['content', 'score', 'at']]\n",
        "\n",
        "\n",
        "df_cbe_clean = df_cbe_clean.dropna(subset=['content'])\n",
        "\n",
        "\n",
        "print(df_cbe_clean.head())\n"
      ],
      "metadata": {
        "colab": {
          "base_uri": "https://localhost:8080/"
        },
        "id": "wYzBzAn3s-q9",
        "outputId": "81414ecf-051c-4d7b-e963-d0ba43bbe59e"
      },
      "execution_count": 6,
      "outputs": [
        {
          "output_type": "stream",
          "name": "stdout",
          "text": [
            "                                             content  score  \\\n",
            "0                                   it's not working      3   \n",
            "1  Hello, I’m facing a problem with the BOA Mobil...      1   \n",
            "2                                        exceptional      5   \n",
            "3                               BoA Mobile good bank      5   \n",
            "4                    this is worest app 24/7 loading      1   \n",
            "\n",
            "                   at  \n",
            "0 2025-06-05 08:57:36  \n",
            "1 2025-06-03 13:21:34  \n",
            "2 2025-06-03 07:32:35  \n",
            "3 2025-06-02 11:25:12  \n",
            "4 2025-06-01 12:51:10  \n"
          ]
        }
      ]
    },
    {
      "cell_type": "code",
      "source": [
        "import pandas as pd\n",
        "df_boa = pd.DataFrame(boa_reviews)\n",
        "\n",
        "df_boa_clean = df_boa[['content', 'score', 'at']]\n",
        "\n",
        "df_boa_clean = df_boa_clean.dropna(subset=['content'])\n",
        "\n",
        "print(df_boa_clean.head())"
      ],
      "metadata": {
        "colab": {
          "base_uri": "https://localhost:8080/"
        },
        "id": "fjsX2aLDtARk",
        "outputId": "9928c2fa-79aa-40c2-c8c2-a5f808f3f813"
      },
      "execution_count": 7,
      "outputs": [
        {
          "output_type": "stream",
          "name": "stdout",
          "text": [
            "                                             content  score  \\\n",
            "0                                   it's not working      3   \n",
            "1  Hello, I’m facing a problem with the BOA Mobil...      1   \n",
            "2                                        exceptional      5   \n",
            "3                               BoA Mobile good bank      5   \n",
            "4                    this is worest app 24/7 loading      1   \n",
            "\n",
            "                   at  \n",
            "0 2025-06-05 08:57:36  \n",
            "1 2025-06-03 13:21:34  \n",
            "2 2025-06-03 07:32:35  \n",
            "3 2025-06-02 11:25:12  \n",
            "4 2025-06-01 12:51:10  \n"
          ]
        }
      ]
    },
    {
      "cell_type": "code",
      "source": [
        "import pandas as pd\n",
        "df_dashen = pd.DataFrame(dashen_reviews)\n",
        "\n",
        "df_dashen_clean = df_dashen[['content', 'score', 'at']]\n",
        "\n",
        "df_dashen_clean = df_dashen_clean.dropna(subset=['content'])\n",
        "print(df_dashen_clean.head())"
      ],
      "metadata": {
        "colab": {
          "base_uri": "https://localhost:8080/"
        },
        "id": "tzc7Dw_ZtDHF",
        "outputId": "edf178ee-40ed-4572-93fa-0a11dc2c12b3"
      },
      "execution_count": 8,
      "outputs": [
        {
          "output_type": "stream",
          "name": "stdout",
          "text": [
            "                                             content  score  \\\n",
            "0                                              kalid      5   \n",
            "1  I like this mobile banking app very much. Over...      2   \n",
            "2                                               love      3   \n",
            "3                                               መቸሸጠ      5   \n",
            "4                                                wow      5   \n",
            "\n",
            "                   at  \n",
            "0 2025-06-07 21:04:22  \n",
            "1 2025-06-07 07:40:29  \n",
            "2 2025-06-05 21:15:44  \n",
            "3 2025-06-03 16:40:31  \n",
            "4 2025-06-03 14:30:11  \n"
          ]
        }
      ]
    },
    {
      "cell_type": "code",
      "source": [],
      "metadata": {
        "id": "CKf3jU2_tF8V"
      },
      "execution_count": null,
      "outputs": []
    }
  ]
}